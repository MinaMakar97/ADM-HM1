{
 "cells": [
  {
   "cell_type": "markdown",
   "id": "8f19e568-9402-4da3-899a-f88e31251aaa",
   "metadata": {},
   "source": [
    "# PROBLEMA 1"
   ]
  },
  {
   "cell_type": "markdown",
   "id": "3b0d27ee-8b8b-4239-bde3-df07f4613b71",
   "metadata": {},
   "source": [
    "## Introduction"
   ]
  },
  {
   "cell_type": "markdown",
   "id": "90465e26-c788-449b-ac63-c6dd0e9a8246",
   "metadata": {},
   "source": [
    "### Say \"Hello, World!\" With Python"
   ]
  },
  {
   "cell_type": "code",
   "execution_count": 1,
   "id": "b8541766-6e13-48e8-9945-a0b277c76c93",
   "metadata": {},
   "outputs": [
    {
     "name": "stdout",
     "output_type": "stream",
     "text": [
      "Hello, World!\n"
     ]
    }
   ],
   "source": [
    "print(\"Hello, World!\")"
   ]
  },
  {
   "cell_type": "markdown",
   "id": "ce535b11-7004-48ec-bcdc-8edbe147f8d5",
   "metadata": {},
   "source": [
    "### Python If-Else"
   ]
  },
  {
   "cell_type": "code",
   "execution_count": 2,
   "id": "98e7862a-3f68-43bf-b0f4-51a0f8b731fb",
   "metadata": {},
   "outputs": [
    {
     "name": "stdin",
     "output_type": "stream",
     "text": [
      " 6\n"
     ]
    },
    {
     "name": "stdout",
     "output_type": "stream",
     "text": [
      "Weird\n"
     ]
    }
   ],
   "source": [
    "if __name__ == '__main__':\n",
    "    n = int(input().strip())\n",
    "    \n",
    "if (n%2==1): print('Weird')\n",
    "elif n>1 and n < 6: print('Not Weird')\n",
    "elif n < 21: print ('Weird')\n",
    "else: print ('Not Weird')"
   ]
  },
  {
   "cell_type": "markdown",
   "id": "d0849772-59e4-451e-81a7-5fe13b004107",
   "metadata": {},
   "source": [
    "### Arithmetic Operators"
   ]
  },
  {
   "cell_type": "code",
   "execution_count": 3,
   "id": "23443992-4c10-44f4-9c2c-334064a4b5f5",
   "metadata": {},
   "outputs": [
    {
     "name": "stdin",
     "output_type": "stream",
     "text": [
      " 6\n",
      " 6\n"
     ]
    },
    {
     "name": "stdout",
     "output_type": "stream",
     "text": [
      "12\n",
      "0\n",
      "36\n"
     ]
    }
   ],
   "source": [
    "if __name__ == '__main__':\n",
    "    a = int(input())\n",
    "    b = int(input())\n",
    "    print(a+b)\n",
    "    print(a-b)\n",
    "    print(a*b)"
   ]
  },
  {
   "cell_type": "markdown",
   "id": "fb7ca7b4-ad62-42cd-9918-da49aaf1f5da",
   "metadata": {},
   "source": [
    "### Python: Division"
   ]
  },
  {
   "cell_type": "code",
   "execution_count": 4,
   "id": "644f0dab-3bf5-432d-b267-4e91d04b28f8",
   "metadata": {},
   "outputs": [
    {
     "name": "stdin",
     "output_type": "stream",
     "text": [
      " 6\n",
      " 6\n"
     ]
    },
    {
     "name": "stdout",
     "output_type": "stream",
     "text": [
      "1\n",
      "1.0\n"
     ]
    }
   ],
   "source": [
    "if __name__ == '__main__':\n",
    "    a = int(input())\n",
    "    b = int(input())\n",
    "    print(a//b)\n",
    "    print(a/b)"
   ]
  },
  {
   "cell_type": "markdown",
   "id": "e039f27b-d5b6-497c-861c-f340b0194025",
   "metadata": {},
   "source": [
    "### LOOPS"
   ]
  },
  {
   "cell_type": "code",
   "execution_count": 5,
   "id": "a0696af6-35b4-443f-8eb8-b350c5e8ff8a",
   "metadata": {},
   "outputs": [
    {
     "name": "stdin",
     "output_type": "stream",
     "text": [
      " 6\n"
     ]
    },
    {
     "name": "stdout",
     "output_type": "stream",
     "text": [
      "0\n",
      "1\n",
      "4\n",
      "9\n",
      "16\n",
      "25\n"
     ]
    }
   ],
   "source": [
    "if __name__ == '__main__':\n",
    "    n = int(input())\n",
    "    for x in range(n):\n",
    "        print(x*x)"
   ]
  },
  {
   "cell_type": "markdown",
   "id": "b05dc198-27ad-43d3-9b84-92956ed7d727",
   "metadata": {},
   "source": [
    "### WRITE A FUNCTION"
   ]
  },
  {
   "cell_type": "code",
   "execution_count": 6,
   "id": "820689dd-3f1a-46d4-a78a-6b78eaf973c2",
   "metadata": {},
   "outputs": [],
   "source": [
    "def is_leap(year):\n",
    "    leap = False \n",
    "    if year < 1900 or year > 10**5:\n",
    "         return leap\n",
    "    elif (year%100 != 0 or year%400 == 0) and year % 4==0 :\n",
    "        return True\n",
    "    return leap"
   ]
  },
  {
   "cell_type": "markdown",
   "id": "71a36554-42c5-4e83-900f-676a0ac39a80",
   "metadata": {},
   "source": [
    "### Print Function"
   ]
  },
  {
   "cell_type": "code",
   "execution_count": 7,
   "id": "b43633f8-55d1-422c-a1ce-ae3a17b41e11",
   "metadata": {},
   "outputs": [
    {
     "name": "stdin",
     "output_type": "stream",
     "text": [
      " 6\n"
     ]
    },
    {
     "name": "stdout",
     "output_type": "stream",
     "text": [
      "123456\n"
     ]
    }
   ],
   "source": [
    "def printN(n):\n",
    "    final=''\n",
    "    for x in range (1,n+1):\n",
    "        final+=str(x)\n",
    "    return final\n",
    "if __name__ == '__main__':\n",
    "    n = int(input())\n",
    "    print(printN(n))"
   ]
  },
  {
   "cell_type": "markdown",
   "id": "fee52827-08de-4bff-9625-55b568efe04e",
   "metadata": {},
   "source": [
    "## Data types "
   ]
  },
  {
   "cell_type": "markdown",
   "id": "cc562f24-36e7-4172-a569-c0afc356a530",
   "metadata": {},
   "source": [
    "### List Comprehensions"
   ]
  },
  {
   "cell_type": "code",
   "execution_count": null,
   "id": "bc764107-7303-4be8-bf86-92e2a8d5b147",
   "metadata": {},
   "outputs": [],
   "source": [
    "if __name__ == '__main__':\n",
    "    x = int(input())\n",
    "    y = int(input())\n",
    "    z = int(input())\n",
    "    n = int(input())\n",
    "    matrice = []\n",
    "    matrice = [[xx,yy,zz] for xx in range(x+1) for yy in range(y+1) for zz in range(z+1) if xx + yy + zz != n ]\n",
    "    print(matrice)"
   ]
  },
  {
   "cell_type": "markdown",
   "id": "02e62462-06af-4cce-a502-e8514b8698cb",
   "metadata": {},
   "source": [
    "### Find the Runner-Up Score!"
   ]
  },
  {
   "cell_type": "code",
   "execution_count": null,
   "id": "fa04c3a7-8c7f-40d1-883b-d512fc01865c",
   "metadata": {},
   "outputs": [],
   "source": [
    "if __name__ == '__main__':\n",
    "    n = int(input())\n",
    "    arr = map(int, input().split())\n",
    "    array = list(arr)\n",
    "    first = max(array)\n",
    "    second = min(array)\n",
    "    for x in array:\n",
    "        if x > second and x < first:\n",
    "            second = x\n",
    "    print(second)"
   ]
  },
  {
   "cell_type": "markdown",
   "id": "211f27b2-aab8-4d41-aabb-5c30e53042a5",
   "metadata": {},
   "source": [
    "### Nested Lists"
   ]
  },
  {
   "cell_type": "code",
   "execution_count": null,
   "id": "3b129840-046e-4de3-82aa-4ed46c1e6f89",
   "metadata": {},
   "outputs": [],
   "source": [
    "if __name__ == '__main__':\n",
    "    students = []\n",
    "    scores = []\n",
    "    for _ in range(int(input())):\n",
    "        name = input()\n",
    "        score = float(input())\n",
    "        students.append(name)\n",
    "        scores.append(score)\n",
    "    minore = min(list(filter(lambda a: a!= min(scores),scores)))\n",
    "    listModified = []\n",
    "    for x in range (len(scores)):\n",
    "        if scores[x] == minore:\n",
    "            listModified.append(students[x])\n",
    "    listModified = sorted(listModified)\n",
    "    for x in listModified: print(x)"
   ]
  },
  {
   "cell_type": "markdown",
   "id": "25d23847-c16e-476e-ae16-75ed7acc0058",
   "metadata": {
    "tags": []
   },
   "source": [
    "### Finding the percentage"
   ]
  },
  {
   "cell_type": "code",
   "execution_count": null,
   "id": "5bbdd77b-4cdf-48ab-94cd-68a28bc90b1b",
   "metadata": {},
   "outputs": [],
   "source": [
    "if __name__ == '__main__':\n",
    "    n = int(input())\n",
    "    student_marks = {}\n",
    "    medie = dict()\n",
    "    for _ in range(n):\n",
    "        name, *line = input().split()\n",
    "        scores = list(map(float, line))\n",
    "        student_marks[name] = scores\n",
    "        lista = student_marks[name]\n",
    "        medie[name] = sum(lista)/len(lista)\n",
    "    \n",
    "    query_name = input()\n",
    "    print(\"%0.2f\" % medie[query_name])"
   ]
  },
  {
   "cell_type": "markdown",
   "id": "91d3b9b4-c00d-43dc-83c8-090adee320f8",
   "metadata": {},
   "source": [
    "### LISTS"
   ]
  },
  {
   "cell_type": "code",
   "execution_count": null,
   "id": "6156741e-5da9-4752-ab61-e34749a17fd5",
   "metadata": {},
   "outputs": [],
   "source": [
    "if __name__ == '__main__':\n",
    "    N = int(input())\n",
    "    lista = []\n",
    "    for x in range(N):\n",
    "        line = input().split(' ')\n",
    "        #print(line)\n",
    "        if line[0] == 'print':\n",
    "            print(lista)\n",
    "        elif line[0] == 'insert':\n",
    "            lista.insert(int(line[1]),int(line[2]))\n",
    "        elif line[0] == 'append':\n",
    "            lista.append(int(line[1]))\n",
    "        elif line[0] == 'remove':\n",
    "            lista.remove(int(line[1]))\n",
    "        elif line[0] == 'sort':\n",
    "            lista.sort()\n",
    "        elif line[0] == 'reverse':\n",
    "            lista.reverse()\n",
    "        elif line[0] == 'pop':\n",
    "            lista.pop()"
   ]
  },
  {
   "cell_type": "markdown",
   "id": "27edf0c6-6cf5-4d31-b728-cdfc22a91523",
   "metadata": {},
   "source": [
    "### Tuples"
   ]
  },
  {
   "cell_type": "code",
   "execution_count": null,
   "id": "c3617c99-70b7-4c54-ada5-d6f9e9d50167",
   "metadata": {},
   "outputs": [],
   "source": [
    "if __name__ == '__main__':\n",
    "    n = int(input())\n",
    "    integer_list = map(int, input().split())\n",
    "    print(hash(tuple(list(integer_list))))"
   ]
  },
  {
   "cell_type": "markdown",
   "id": "32de0ca9-577d-4d51-8a4b-5fd4593c6dc7",
   "metadata": {},
   "source": [
    "## Strings"
   ]
  },
  {
   "cell_type": "markdown",
   "id": "ea639b0f-7648-466b-aca3-7b19ee2f5e48",
   "metadata": {},
   "source": [
    "### sWAP cASE"
   ]
  },
  {
   "cell_type": "code",
   "execution_count": 11,
   "id": "793f1b4e-6f53-44e2-aef1-11ba31fd8aac",
   "metadata": {},
   "outputs": [],
   "source": [
    "def swap_case(s):\n",
    "    newS = ''\n",
    "    for l in s:\n",
    "        if l.isalpha():\n",
    "            if l.isupper():\n",
    "                newS += l.lower()\n",
    "            else:\n",
    "                newS += l.upper()\n",
    "        else:\n",
    "            newS += l\n",
    "    return newS"
   ]
  },
  {
   "cell_type": "markdown",
   "id": "bfb51135-31d4-4654-8268-87d27b59b083",
   "metadata": {},
   "source": [
    "### String Split and Join"
   ]
  },
  {
   "cell_type": "code",
   "execution_count": null,
   "id": "5dfaaf29-7ad1-4831-88f3-96ad9b867464",
   "metadata": {},
   "outputs": [],
   "source": [
    "def split_and_join(line):\n",
    "    # write your code here\n",
    "    return '-'.join(line.split(' '))\n",
    "\n",
    "if __name__ == '__main__':\n",
    "    line = input()\n",
    "    result = split_and_join(line)\n",
    "    print(result)"
   ]
  },
  {
   "cell_type": "markdown",
   "id": "cdc68013-c6ea-497a-8824-e950c8c6d0ec",
   "metadata": {},
   "source": [
    "### What's Your Name?"
   ]
  },
  {
   "cell_type": "code",
   "execution_count": null,
   "id": "b6d68dc2-a1d0-4f93-8efb-ae3ebb3826f9",
   "metadata": {},
   "outputs": [],
   "source": [
    "def print_full_name(first, last):\n",
    "    # Write your code here\n",
    "    print('Hello ' +  first+' ' +last+'! You just delved into python.')"
   ]
  },
  {
   "cell_type": "markdown",
   "id": "dd0681af-b8ef-401a-a23a-b57e31fdb097",
   "metadata": {},
   "source": [
    "### Mutations"
   ]
  },
  {
   "cell_type": "code",
   "execution_count": null,
   "id": "da4bfb30-b153-4f73-ba6d-c1750bf235d9",
   "metadata": {},
   "outputs": [],
   "source": [
    "def mutate_string(string, position, character):\n",
    "    return string[:position] + character + string[position+1:]"
   ]
  },
  {
   "cell_type": "markdown",
   "id": "3a46d6d2-8ded-4bee-9b7f-80c141b366e3",
   "metadata": {},
   "source": [
    "### Find a string"
   ]
  },
  {
   "cell_type": "code",
   "execution_count": null,
   "id": "7ad0c988-b34b-48ae-ad99-9321bfceaf22",
   "metadata": {},
   "outputs": [],
   "source": [
    "def count_substring(string, sub_string):\n",
    "    occurrences = 0\n",
    "    for x in range(len(string)):\n",
    "        if x < len(string) - len(sub_string) + 1:\n",
    "            if string[x:x + len(sub_string)] == sub_string:\n",
    "                occurrences += 1             \n",
    "    return occurrences"
   ]
  },
  {
   "cell_type": "markdown",
   "id": "0e5de28d-0258-4475-908c-8527b75f1f8c",
   "metadata": {},
   "source": [
    "### String Validators"
   ]
  },
  {
   "cell_type": "code",
   "execution_count": null,
   "id": "89c44789-d6ab-436a-a700-b90f52814fca",
   "metadata": {},
   "outputs": [],
   "source": [
    "if __name__ == '__main__':\n",
    "    s = input()\n",
    "    isNum = False\n",
    "    isAlpha = False\n",
    "    isDigit = False\n",
    "    isLower = False\n",
    "    isUpper = False\n",
    "    \n",
    "    for x in s:\n",
    "        if x.isalnum(): isNum = True\n",
    "        if x.isalpha(): isAlpha = True\n",
    "        if x.isdigit(): isDigit = True\n",
    "        if x.islower(): isLower = True\n",
    "        if x.isupper(): isUpper = True\n",
    "    print(isNum)\n",
    "    print(isAlpha)\n",
    "    print(isDigit)\n",
    "    print(isLower)\n",
    "    print(isUpper)"
   ]
  },
  {
   "cell_type": "markdown",
   "id": "47ec4062-b776-426d-8bf2-1b9f0ce3e6bf",
   "metadata": {},
   "source": [
    "### Text Alignment"
   ]
  },
  {
   "cell_type": "code",
   "execution_count": null,
   "id": "24dcbefa-20fb-4c3a-b2f6-6173cede6e0d",
   "metadata": {},
   "outputs": [],
   "source": [
    "#Replace all ______ with rjust, ljust or center. \n",
    "\n",
    "thickness = int(input()) #This must be an odd number\n",
    "c = 'H'\n",
    "\n",
    "#Top Cone\n",
    "for i in range(thickness):\n",
    "    print((c*i).rjust(thickness-1)+c+(c*i).ljust(thickness-1))\n",
    "#Top Pillars\n",
    "for i in range(thickness+1):\n",
    "    print((c*thickness).center(thickness*2)+(c*thickness).center(thickness*6))\n",
    "\n",
    "#Middle Belt\n",
    "for i in range((thickness+1)//2):\n",
    "    print((c*thickness*5).center(thickness*6))    \n",
    "\n",
    "#Bottom Pillars\n",
    "for i in range(thickness+1):\n",
    "    print((c*thickness).center(thickness*2)+(c*thickness).center(thickness*6))    \n",
    "\n",
    "#Bottom Cone\n",
    "for i in range(thickness):\n",
    "    print(((c*(thickness-i-1)).rjust(thickness)+c+(c*(thickness-i-1)).ljust(thickness)).rjust(thickness*6))\n"
   ]
  },
  {
   "cell_type": "markdown",
   "id": "63bca2d6-fa2c-4a6d-a877-39401e2bc048",
   "metadata": {},
   "source": [
    "### Text Wrap"
   ]
  },
  {
   "cell_type": "code",
   "execution_count": null,
   "id": "be8a82bc-c8a5-4644-8e63-b1e5bafa8571",
   "metadata": {},
   "outputs": [],
   "source": [
    "def wrap(string, max_width):\n",
    "    return textwrap.fill(string,max_width)"
   ]
  },
  {
   "cell_type": "markdown",
   "id": "96672e84-6b41-4560-bd54-baeaa1f48bff",
   "metadata": {},
   "source": [
    "### Designer Door Mat"
   ]
  },
  {
   "cell_type": "code",
   "execution_count": null,
   "id": "ca3d3c5d-37e9-471d-8fb3-a795f233cee6",
   "metadata": {},
   "outputs": [],
   "source": [
    "s= input()\n",
    "s = s.split(' ')\n",
    "N = int(s[0])\n",
    "M = int(s[1])\n",
    "for x in range(1,N,2):\n",
    "    NumberT = (M - len('.|.'*x))//2\n",
    "    print(('-'*NumberT)+('.|.'*(x))+('-'*NumberT))\n",
    "print(('-'*((M-7)//2))+'WELCOME'+('-'*((M-7)//2)))\n",
    "for x in range(N-2,0,-2):\n",
    "    NumberT = (M - len('.|.'*x))//2\n",
    "    print(('-'*NumberT)+('.|.'*(x))+('-'*NumberT))"
   ]
  },
  {
   "cell_type": "markdown",
   "id": "b6d88d97-f997-47f7-bef2-195d0c3eb937",
   "metadata": {},
   "source": [
    "### String Formatting"
   ]
  },
  {
   "cell_type": "code",
   "execution_count": null,
   "id": "fff948ac-5ce1-405d-814d-24dd3ad5a525",
   "metadata": {},
   "outputs": [],
   "source": [
    "def print_formatted(number):\n",
    "    sp = len(str(bin(number)[2:]))\n",
    "    for n in range(1,number+1):\n",
    "        s =((sp-len(str(n)))*' ') + str(n)+' '      \n",
    "        s+=((sp-len(str(oct(n))[2:]))*' ')+ str(oct(n))[2:]+' '\n",
    "        s+=((sp-len(str(hex(n))[2:]))*' ')+ str(hex(n))[2:].upper()+' '\n",
    "        s+=((sp-len(str(bin(n)[2:])))*' ')+ str(bin(n)[2:]) + ' '\n",
    "        print(s)"
   ]
  },
  {
   "cell_type": "markdown",
   "id": "93045487-3518-47bc-9c94-1f242ddb2dc5",
   "metadata": {},
   "source": [
    "### Alphabet Rangoli"
   ]
  },
  {
   "cell_type": "code",
   "execution_count": null,
   "id": "4e2173c9-181e-43a2-8ec0-671de497d0ba",
   "metadata": {},
   "outputs": [],
   "source": [
    "def print_rangoli(size):\n",
    "    lettere = [chr(x+97) for x in range(size)]\n",
    "    rev = lettere[::-1]\n",
    "    for x in range(size-1,-1,-1):\n",
    "        toTake = lettere[x:size]\n",
    "        toTake2 = toTake[::-1]\n",
    "        print('-'.join(toTake2+toTake[1:]).\\\n",
    "              center(size+size+1+(size*2)-4,'-'))\n",
    "    for x in range(size-1):\n",
    "        toTake = lettere[x+1:size]\n",
    "        toTake2 = toTake[::-1]\n",
    "        print('-'.join(toTake2+toTake[1:]).\\\n",
    "              center(size+size+1+(size*2)-4,'-'))"
   ]
  },
  {
   "cell_type": "markdown",
   "id": "53626698-2bcb-497c-911b-570d25869f19",
   "metadata": {},
   "source": [
    "### Capitalize!"
   ]
  },
  {
   "cell_type": "code",
   "execution_count": null,
   "id": "dcdc4288-ae59-4197-8c53-4914e9402b73",
   "metadata": {},
   "outputs": [],
   "source": [
    "def solve(s):\n",
    "    newS = ''\n",
    "    for x in range(len(s)):\n",
    "        if x == 0 or s[x-1] == ' ':\n",
    "            newS += s[x].upper()\n",
    "        else:\n",
    "            newS+=s[x]\n",
    "    return newS"
   ]
  },
  {
   "cell_type": "markdown",
   "id": "4b390ebc-c5bd-4466-9b9d-4f57ea8cf3ff",
   "metadata": {},
   "source": [
    "### The Minion Game"
   ]
  },
  {
   "cell_type": "code",
   "execution_count": null,
   "id": "cf098032-c83e-4d63-808e-2598727a69ac",
   "metadata": {},
   "outputs": [],
   "source": [
    "def minion_game(string):\n",
    "    kevin = {'a','A','E','I','O','U','e','i','o','u'}\n",
    "    scoreKevin = 0\n",
    "    scoreStudart = 0\n",
    "    leng = len(string)\n",
    "    for i in range(len(string)):\n",
    "        if string[i] in kevin:\n",
    "            scoreKevin += leng - i\n",
    "        else:\n",
    "            scoreStudart += leng - i\n",
    "    if scoreKevin > scoreStudart:\n",
    "        print('Kevin',scoreKevin)\n",
    "    elif scoreKevin == scoreStudart:\n",
    "         print('Draw')\n",
    "    else:\n",
    "        print('Stuart',scoreStudart)"
   ]
  },
  {
   "cell_type": "markdown",
   "id": "fede13f1-38fc-40d7-be60-8013b51fa703",
   "metadata": {},
   "source": [
    "### Merge the Tools!"
   ]
  },
  {
   "cell_type": "code",
   "execution_count": null,
   "id": "0772188c-5f23-42e2-b787-47a114d06f32",
   "metadata": {},
   "outputs": [],
   "source": [
    "def merge_the_tools(string, k):\n",
    "    newL = []\n",
    "    newS = ''\n",
    "    for st in range(len(string)):\n",
    "        if st%k == 0:\n",
    "            if st != 0:\n",
    "                print(newS)\n",
    "            newS = ''+string[st]\n",
    "        elif st%k < k and string[st] not in newS:\n",
    "            newS+= string[st]\n",
    "    print(newS)"
   ]
  },
  {
   "cell_type": "markdown",
   "id": "4ff70b03-5543-4d6c-919e-bfa89b347f10",
   "metadata": {},
   "source": [
    "## Sets"
   ]
  },
  {
   "cell_type": "markdown",
   "id": "79289574-ab40-46bf-b2ab-4dbd891f8a8e",
   "metadata": {},
   "source": [
    "### Introduction to Sets"
   ]
  },
  {
   "cell_type": "code",
   "execution_count": null,
   "id": "5cf3a356-f387-4fc8-a5dc-31604210bf7c",
   "metadata": {},
   "outputs": [],
   "source": [
    "def average(array):\n",
    "    return sum(set(array))/len(set(array))"
   ]
  },
  {
   "cell_type": "markdown",
   "id": "b83cc7c7-69a9-4192-be82-ffb7fb960eb3",
   "metadata": {},
   "source": [
    "### No Idea!"
   ]
  },
  {
   "cell_type": "code",
   "execution_count": null,
   "id": "28a79b27-2215-4af4-9d1f-4ae4e0828661",
   "metadata": {},
   "outputs": [],
   "source": [
    "if __name__ == '__main__':\n",
    "    happiness = 0\n",
    "    s = list(map(int, input().split()))\n",
    "    n = s[0]\n",
    "    m = s[1]\n",
    "    N = list(map(int, input().split()))\n",
    "    A = set(map(int, input().split()))\n",
    "    B = set(map(int, input().split()))\n",
    "    for i in N:\n",
    "        if i in A:\n",
    "            happiness +=1\n",
    "        if i in B:\n",
    "            happiness -=1\n",
    "    print(happiness)\n"
   ]
  },
  {
   "cell_type": "markdown",
   "id": "0417dc89-23e9-4f3d-9679-fa613b3d4555",
   "metadata": {},
   "source": [
    "### Symmetric Difference"
   ]
  },
  {
   "cell_type": "code",
   "execution_count": null,
   "id": "f6df1b34-f3ea-488f-8c9e-50f2d0634934",
   "metadata": {},
   "outputs": [],
   "source": [
    "if __name__ == '__main__':\n",
    "    M = int(input())\n",
    "    x = map(int,input().split())\n",
    "    N = int(input())\n",
    "    y = map(int,input().split())\n",
    "    r = sorted(list(set(x).symmetric_difference(set(y))))\n",
    "    for i in r: print (i)"
   ]
  },
  {
   "cell_type": "markdown",
   "id": "ef709b0e-3073-43d1-b1ab-e0db3b0e65f5",
   "metadata": {},
   "source": [
    "### Set .add()"
   ]
  },
  {
   "cell_type": "code",
   "execution_count": null,
   "id": "bdfb7a10-87f3-4b27-86d6-b9acbdda9d15",
   "metadata": {},
   "outputs": [],
   "source": [
    "if __name__ == '__main__':\n",
    "    s = set()\n",
    "    x = int(input())\n",
    "    for i in range(x):\n",
    "        s.add(input())\n",
    "    print(len(s))"
   ]
  },
  {
   "cell_type": "markdown",
   "id": "6fbc68bc-4bf0-4714-a9a8-e5e22f2770a6",
   "metadata": {},
   "source": [
    "### Set .discard(), .remove() & .pop()"
   ]
  },
  {
   "cell_type": "code",
   "execution_count": null,
   "id": "3fc06a58-1af1-40fb-9481-c98a0c5f76d8",
   "metadata": {},
   "outputs": [],
   "source": [
    "n = int(input())\n",
    "ss = set(map(int, input().split()))\n",
    "q = int(input())\n",
    "for x in range (q):\n",
    "    s = input().split()\n",
    "    if s[0] == 'pop':\n",
    "        ss.pop()\n",
    "    elif s[0] == 'remove':\n",
    "        ss.remove(int(s[1]))\n",
    "    elif s[0] == 'discard':\n",
    "        ss.discard(int(s[1]))\n",
    "print(sum(ss))"
   ]
  },
  {
   "cell_type": "markdown",
   "id": "5d03e7c8-bbe3-4252-a995-d6803f3916ad",
   "metadata": {},
   "source": [
    "### Set .union() Operation"
   ]
  },
  {
   "cell_type": "code",
   "execution_count": null,
   "id": "64dc0810-c721-4a9b-a202-384964492ffe",
   "metadata": {},
   "outputs": [],
   "source": [
    "if __name__ == '__main__':\n",
    "    int(input())\n",
    "    english = set(map(int, input().split()))\n",
    "    int(input())\n",
    "    frensh = set(map(int, input().split()))\n",
    "    print(len(english.union(frensh)))"
   ]
  },
  {
   "cell_type": "markdown",
   "id": "433a4453-b1f6-4219-969d-a0c27aa0d6fa",
   "metadata": {},
   "source": [
    "### Set .intersection() Operation"
   ]
  },
  {
   "cell_type": "code",
   "execution_count": null,
   "id": "42bd4052-b62e-4bc7-b2e6-cc34fc2a7312",
   "metadata": {},
   "outputs": [],
   "source": [
    "if __name__ == '__main__':\n",
    "    int(input())\n",
    "    english = set(map(int, input().split()))\n",
    "    int(input())\n",
    "    frensh = set(map(int, input().split()))\n",
    "    print(len(english.intersection(frensh)))"
   ]
  },
  {
   "cell_type": "markdown",
   "id": "22d0da3b-a0c3-40bc-aca0-5fdacd87fab5",
   "metadata": {},
   "source": [
    "### Set .difference() Operation"
   ]
  },
  {
   "cell_type": "code",
   "execution_count": null,
   "id": "6702687a-137d-43a1-8d0e-38640f099e78",
   "metadata": {},
   "outputs": [],
   "source": [
    "if __name__ == '__main__':\n",
    "    int(input())\n",
    "    english = set(map(int, input().split()))\n",
    "    int(input())\n",
    "    frensh = set(map(int, input().split()))\n",
    "    print(len(english.difference(frensh)))"
   ]
  },
  {
   "cell_type": "markdown",
   "id": "c633d25e-c0e6-40fb-b6ed-ab16d0ca7513",
   "metadata": {},
   "source": [
    "### Set .symmetric_difference() Operation"
   ]
  },
  {
   "cell_type": "code",
   "execution_count": null,
   "id": "64415d80-ba89-4e5e-ba5b-0058037f0721",
   "metadata": {},
   "outputs": [],
   "source": [
    "if __name__ == '__main__':\n",
    "    int(input())\n",
    "    english = set(map(int, input().split()))\n",
    "    int(input())\n",
    "    frensh = set(map(int, input().split()))\n",
    "    print(len(english.symmetric_difference(frensh)))"
   ]
  },
  {
   "cell_type": "markdown",
   "id": "1137cf9e-0a41-4ddc-abc1-da9aa3021100",
   "metadata": {},
   "source": [
    "### Set Mutations"
   ]
  },
  {
   "cell_type": "code",
   "execution_count": null,
   "id": "b7c25f1a-1dab-4aac-9ba7-d60f6ee5ae14",
   "metadata": {},
   "outputs": [],
   "source": [
    "int(input())\n",
    "A = set(map(int, input().split()))\n",
    "q = int(input())\n",
    "for x in range (q):\n",
    "    s = input().split()\n",
    "    if s[0] == 'intersection_update':\n",
    "        A.intersection_update(set(map(int, input().split())))\n",
    "    elif s[0] == 'update':\n",
    "        A.update(set(map(int, input().split())))\n",
    "    elif s[0] == 'symmetric_difference_update':\n",
    "        A.symmetric_difference_update(set(map(int, input().split())))\n",
    "    elif s[0] =='difference_update':\n",
    "         A.difference_update(set(map(int, input().split())))\n",
    "print(sum(A))"
   ]
  },
  {
   "cell_type": "markdown",
   "id": "486af9d9-47a8-4306-8678-3f2beecf68ef",
   "metadata": {},
   "source": [
    "### The Captain's Room"
   ]
  },
  {
   "cell_type": "code",
   "execution_count": null,
   "id": "3aadf28a-9865-44f9-a6c7-12f7773f28f5",
   "metadata": {},
   "outputs": [],
   "source": [
    "n = int(input())\n",
    "ss = list(map(int, input().split()))\n",
    "cap = set()\n",
    "v = set()\n",
    "for x in ss:\n",
    "    if x not in v:\n",
    "        v.add(x)\n",
    "        cap.add(x)\n",
    "    elif x in cap:\n",
    "        cap.remove(x)\n",
    "print(cap.pop())"
   ]
  },
  {
   "cell_type": "markdown",
   "id": "89d60a2f-6418-4c49-ab18-8231fd30d868",
   "metadata": {},
   "source": [
    "### Check Subset"
   ]
  },
  {
   "cell_type": "code",
   "execution_count": null,
   "id": "353b90e4-cd45-4589-98bd-6fbabff44b80",
   "metadata": {},
   "outputs": [],
   "source": [
    "T = int(input())\n",
    "for x in range (T):\n",
    "    int(input())\n",
    "    A = set(map(int, input().split()))\n",
    "    int(input())\n",
    "    B = set(map(int, input().split()))\n",
    "    if len(A.intersection(B)) == len(A):\n",
    "        print('True')\n",
    "    else:\n",
    "        print('False')"
   ]
  },
  {
   "cell_type": "markdown",
   "id": "c06f1a49-aa24-45a4-a58b-01ccb839473b",
   "metadata": {},
   "source": [
    "### Check Strict Superset"
   ]
  },
  {
   "cell_type": "code",
   "execution_count": null,
   "id": "11b1d075-1a47-4e41-acdc-8f587506cc44",
   "metadata": {},
   "outputs": [],
   "source": [
    "A = set(map(int, input().split()))\n",
    "n = int(input())\n",
    "b = False\n",
    "for x in range (n):\n",
    "    s = set(map(int, input().split()))\n",
    "    if len(s.intersection(A)) == len(s) and len(A) > len(s):\n",
    "        b = True\n",
    "    else:\n",
    "        b = False\n",
    "        break\n",
    "print(b)"
   ]
  },
  {
   "cell_type": "markdown",
   "id": "4c776483-1e36-4cdd-bb3c-d7769bcff09a",
   "metadata": {},
   "source": [
    "## Collections"
   ]
  },
  {
   "cell_type": "markdown",
   "id": "e688a6da-dc97-4b77-b75c-20f956e52c06",
   "metadata": {},
   "source": [
    "### collections.Counter()"
   ]
  },
  {
   "cell_type": "code",
   "execution_count": null,
   "id": "7865f4cc-f918-411f-981c-e6486c88fdd6",
   "metadata": {},
   "outputs": [],
   "source": [
    "from collections import Counter \n",
    "if __name__ == '__main__':\n",
    "    price = 0\n",
    "    int(input())\n",
    "    shoes = Counter(list(map(int, input().split())))\n",
    "    N = int(input())\n",
    "    for x in range(N): \n",
    "        customer = list(map(int, input().split()))\n",
    "        if customer[0] in shoes and shoes[customer[0]] > 0:\n",
    "            price+=customer[1]\n",
    "            shoes[customer[0]] = shoes[customer[0]] -1\n",
    "        \n",
    "    print(price)"
   ]
  },
  {
   "cell_type": "markdown",
   "id": "fbe428b6-a008-4acc-b8ef-1cd8316e9bb4",
   "metadata": {},
   "source": [
    "### DefaultDict Tutorial"
   ]
  },
  {
   "cell_type": "code",
   "execution_count": null,
   "id": "d08e2db8-e581-41c1-9bfb-8a111a96117d",
   "metadata": {},
   "outputs": [],
   "source": [
    "from collections import defaultdict\n",
    "if __name__ == '__main__':\n",
    "    #int(input())\n",
    "    d = defaultdict(list)\n",
    "    N = list(map(int, input().split()))\n",
    "    for x in range(N[0]):\n",
    "        a = input()\n",
    "        #print(a)\n",
    "        d[a].append(str(x+1))\n",
    "    for x in range(N[1]):\n",
    "        b = input()\n",
    "        if b in d:\n",
    "            print(' '.join(d[b]))\n",
    "        else:\n",
    "            print(-1)"
   ]
  },
  {
   "cell_type": "markdown",
   "id": "1ee4d0ec-f623-47ec-a6fd-33b8889f9634",
   "metadata": {},
   "source": [
    "### Collections.namedtuple()"
   ]
  },
  {
   "cell_type": "code",
   "execution_count": null,
   "id": "d4237d9b-1881-4746-bbd9-c7eb1ca2d53b",
   "metadata": {},
   "outputs": [],
   "source": [
    "from collections import namedtuple\n",
    "if __name__ == '__main__':\n",
    "    N = int(input())\n",
    "    s = input().split()\n",
    "    Student = namedtuple('Student',(s[0], s[1], s[2], s[3]))\n",
    "    voti = 0\n",
    "    for x in range(N):\n",
    "        line =  input().split()\n",
    "        stud = Student(line[0],line[1],line[2],line[3])\n",
    "      \n",
    "        voti+=int(stud.MARKS)\n",
    "    print(voti/N)"
   ]
  },
  {
   "cell_type": "markdown",
   "id": "1fcad93b-7c23-4d54-bd47-66b17e8c4fb5",
   "metadata": {},
   "source": [
    "### Collections.OrderedDict()"
   ]
  },
  {
   "cell_type": "code",
   "execution_count": null,
   "id": "11caed77-4cf5-404e-ba99-10bd42a96f79",
   "metadata": {},
   "outputs": [],
   "source": [
    "from collections import OrderedDict\n",
    "if __name__ == '__main__':\n",
    "    d = OrderedDict()\n",
    "    N = int(input())\n",
    "    for x in range(N):\n",
    "        l = input().split()\n",
    "        name = \" \".join(l[:-1])\n",
    "        if name in d:\n",
    "            d[name] += int(l[-1])\n",
    "        else:\n",
    "            d[name] = int(l[-1])\n",
    "    for el in d.keys():\n",
    "        print(el,d[el])"
   ]
  },
  {
   "cell_type": "markdown",
   "id": "a7193fc6-0aac-4ce3-baf5-1b63c30310f2",
   "metadata": {},
   "source": [
    "### Word Order"
   ]
  },
  {
   "cell_type": "code",
   "execution_count": null,
   "id": "47224aeb-f0ae-49d2-9219-4155835aae0a",
   "metadata": {},
   "outputs": [],
   "source": [
    "from collections import OrderedDict\n",
    "if __name__ == '__main__':\n",
    "    d = OrderedDict()\n",
    "    N = int(input())\n",
    "    for x in range(N):\n",
    "        s = input()\n",
    "        if s in d:\n",
    "            d[s] += 1\n",
    "        else:\n",
    "            d[s] = 1\n",
    "    print(len(d))\n",
    "    print(\" \".join(map(str, list(d.values()))))"
   ]
  },
  {
   "cell_type": "markdown",
   "id": "9ea8ca1b-f2bb-4b53-af2d-5e1fa9b02d1e",
   "metadata": {},
   "source": [
    "### Collections.deque()"
   ]
  },
  {
   "cell_type": "code",
   "execution_count": null,
   "id": "7d145ffc-c5fb-4221-bddb-bd979d9a55b2",
   "metadata": {},
   "outputs": [],
   "source": [
    "from collections import deque\n",
    "if __name__ == '__main__':\n",
    "    d = deque()\n",
    "    N = int(input()) \n",
    "    for x in range (N):\n",
    "        s = input().split()\n",
    "        if s[0] == 'pop':\n",
    "            d.pop()\n",
    "        elif s[0] == 'popleft':\n",
    "            d.popleft()\n",
    "        elif s[0] == 'append':\n",
    "            d.append(int(s[1]))\n",
    "        elif s[0] == 'appendleft':\n",
    "            d.appendleft(int(s[1]))\n",
    "    print(\" \".join(list(map(str,d))))"
   ]
  },
  {
   "cell_type": "markdown",
   "id": "e2b7ff5b-c6ba-4968-9bcd-d5535aeeb08d",
   "metadata": {},
   "source": [
    "### Company Logo"
   ]
  },
  {
   "cell_type": "code",
   "execution_count": null,
   "id": "bc92bb93-5cbf-4ab7-8b00-81ccadd9e26b",
   "metadata": {},
   "outputs": [],
   "source": [
    "#!/bin/python3\n",
    "\n",
    "import math\n",
    "import os\n",
    "import random\n",
    "import re\n",
    "import sys\n",
    "from collections import OrderedDict\n",
    "\n",
    "\n",
    "if __name__ == '__main__':\n",
    "    d = dict()\n",
    "    s = input()\n",
    "    for l in s:\n",
    "        if l in d:\n",
    "            d[l] += 1\n",
    "        else:\n",
    "            d[l] = 1\n",
    "    newD = sorted(d.items(), key=lambda x:(-x[1],x[0]))\n",
    "    for x in range(3):\n",
    "        print(newD[x][0],newD[x][1])"
   ]
  },
  {
   "cell_type": "markdown",
   "id": "ff414bab-5461-4ca6-8b32-8f5b52adeaff",
   "metadata": {},
   "source": [
    "### Piling Up!"
   ]
  },
  {
   "cell_type": "code",
   "execution_count": null,
   "id": "d4af86f2-913e-4516-ac84-be3531b12c5f",
   "metadata": {},
   "outputs": [],
   "source": [
    "# Enter your code here. Read input from STDIN. Print output to STDOUT\n",
    "if __name__ == '__main__':\n",
    "    N = int(input())\n",
    "    for x in range(N):\n",
    "        int(input())\n",
    "        blocks = list(map(int, input().split()))\n",
    "        position = set()\n",
    "        i = 0\n",
    "        j = len(blocks)-1\n",
    "        mas = max(blocks[i],blocks[j])\n",
    "        temp = mas\n",
    "        for x in range(len(blocks)):\n",
    "            if blocks[i] < blocks[j]:                \n",
    "                temp = blocks[j]\n",
    "                j-=1     \n",
    "            else:            \n",
    "                temp = blocks[i]\n",
    "                i+=1\n",
    "            if temp>mas:\n",
    "                print('No') \n",
    "                break  \n",
    "            if x == len(blocks)-1: print('Yes')"
   ]
  },
  {
   "cell_type": "markdown",
   "id": "b20d9d67-9d0f-4c09-b4df-29b5b9da816f",
   "metadata": {},
   "source": [
    "## Date and Time"
   ]
  },
  {
   "cell_type": "markdown",
   "id": "fe20625e-b9a5-4fa4-9e47-39903baa178c",
   "metadata": {},
   "source": [
    "### Calendar Module"
   ]
  },
  {
   "cell_type": "code",
   "execution_count": null,
   "id": "008833c2-9998-4385-abf3-04be00d3cca4",
   "metadata": {},
   "outputs": [],
   "source": [
    "import calendar\n",
    "lista = ['MONDAY', 'TUESDAY', 'WEDNESDAY', 'THURSDAY', 'FRIDAY', 'SATURDAY','SUNDAY']\n",
    "line = list(map(int,input().split()))\n",
    "c = calendar.weekday(line[2],line[0],line[1])\n",
    "print(lista[c])"
   ]
  },
  {
   "cell_type": "markdown",
   "id": "2c4b21ed-a780-4adf-949c-8258b2f1c671",
   "metadata": {},
   "source": [
    "### Time Delta"
   ]
  },
  {
   "cell_type": "code",
   "execution_count": null,
   "id": "e558abf1-fd90-402c-992e-f3e073029342",
   "metadata": {},
   "outputs": [],
   "source": [
    "#!/bin/python3\n",
    "from datetime import datetime\n",
    "\n",
    "def time_delta(t1, t2):\n",
    "    fmt = '%a %d %b %Y %X %z'\n",
    "    tstamp1 = datetime.strptime(t1, fmt)\n",
    "    tstamp2 = datetime.strptime(t2, fmt)\n",
    "    print(int(abs(tstamp1-tstamp2).total_seconds()))\n",
    "\n",
    "if __name__ == '__main__':\n",
    "    t = int(input())\n",
    "    for t_itr in range(t):\n",
    "        t1 = input()\n",
    "        t2 = input()\n",
    "        time_delta(t1, t2)"
   ]
  },
  {
   "cell_type": "markdown",
   "id": "fb52553a-6d45-4dee-900e-569ee4780fd4",
   "metadata": {},
   "source": [
    "## Exceptions"
   ]
  },
  {
   "cell_type": "code",
   "execution_count": null,
   "id": "6b5e9eb7-8111-422b-ba5e-42896bb5a85a",
   "metadata": {},
   "outputs": [],
   "source": [
    "if __name__ == '__main__':\n",
    "    N = int(input())\n",
    "    for x in range(N):\n",
    "        line =input().split()\n",
    "        try:\n",
    "            a = int(line[0])\n",
    "            b = int(line[1])\n",
    "            print (a//b)\n",
    "        except ZeroDivisionError as e:\n",
    "            print (\"Error Code:\",e)\n",
    "        except ValueError as e:\n",
    "            print (\"Error Code:\",e)"
   ]
  },
  {
   "cell_type": "markdown",
   "id": "d570b809-6142-49b1-90a7-8f8f995f4213",
   "metadata": {},
   "source": [
    "## Built-ins"
   ]
  },
  {
   "cell_type": "markdown",
   "id": "82f103d8-0ba4-438f-b5a0-76b64f30a816",
   "metadata": {},
   "source": [
    "### Zipped!"
   ]
  },
  {
   "cell_type": "code",
   "execution_count": null,
   "id": "81649c06-1672-4202-b4f8-fecdeecc0e61",
   "metadata": {},
   "outputs": [],
   "source": [
    "if __name__ == '__main__':\n",
    "    N = list(map(int, input().split()))\n",
    "    matrix = []\n",
    "    for x in range(N[1]):\n",
    "        line = list(map(float, input().split()))\n",
    "        matrix.append(line)\n",
    "    z = zip(*matrix)\n",
    "    for x in z:\n",
    "        print(sum(x)/len(x))"
   ]
  },
  {
   "cell_type": "markdown",
   "id": "1284e495-82c6-42d2-acf8-7eacf9bfc3eb",
   "metadata": {},
   "source": [
    "### Athlete Sort"
   ]
  },
  {
   "cell_type": "code",
   "execution_count": null,
   "id": "8a1f2239-f4f7-4b1e-a639-ea80f3116e1f",
   "metadata": {},
   "outputs": [],
   "source": [
    "import math\n",
    "import os\n",
    "import random\n",
    "import re\n",
    "import sys\n",
    "\n",
    "\n",
    "\n",
    "if __name__ == '__main__':\n",
    "    nm = input().split()\n",
    "    n = int(nm[0])\n",
    "    m = int(nm[1])\n",
    "    arr = []\n",
    "    for _ in range(n):\n",
    "        arr.append(list(map(int, input().rstrip().split())))\n",
    "    k = int(input())\n",
    "    arr =sorted(arr,key=lambda x:x[k])\n",
    "    for x in arr: print(\" \".join(map(str,x)))"
   ]
  },
  {
   "cell_type": "markdown",
   "id": "eca435a8-03a4-4215-9c6d-fef58928b1a5",
   "metadata": {},
   "source": [
    "### ginortS"
   ]
  },
  {
   "cell_type": "code",
   "execution_count": null,
   "id": "215a3a3a-bc89-4160-a98d-5d0a91587810",
   "metadata": {},
   "outputs": [],
   "source": [
    "def sort(x):\n",
    "    if x.isalpha() and x.isupper():\n",
    "        return ord(x)\n",
    "    elif x.isalpha() and x.islower():\n",
    "        return ord(x)-97\n",
    "    elif int(x)%2==1:\n",
    "        return ord(x)*100\n",
    "    return ord(x)*1000\n",
    "s=input()\n",
    "print(\"\".join(sorted('Sorting1234',key = sort)))"
   ]
  },
  {
   "cell_type": "markdown",
   "id": "58b8413d-c0de-493d-b407-d4c00a155bef",
   "metadata": {},
   "source": [
    "## Python Functionals"
   ]
  },
  {
   "cell_type": "code",
   "execution_count": null,
   "id": "aec5a108-1095-4571-822e-0aad8a19edf1",
   "metadata": {},
   "outputs": [],
   "source": [
    "cube = lambda x: x**3\n",
    "\n",
    "def fibonacci(n):\n",
    "    lista = []\n",
    "    for x in range(n):\n",
    "        lista.append(fibonacci_rec(x))\n",
    "    return lista\n",
    "def fibonacci_rec(n):\n",
    "    if n in {0, 1}:  # Base case\n",
    "        return n\n",
    "    return fibonacci_rec(n - 1) + fibonacci_rec(n - 2)\n",
    " \n",
    "if __name__ == '__main__':\n",
    "    n = int(input())\n",
    "    print(list(map(cube, fibonacci(n))))"
   ]
  },
  {
   "cell_type": "markdown",
   "id": "12068a25-ff8f-46b0-a540-772ef4da8c39",
   "metadata": {},
   "source": [
    "## Regex and Parsing challenges"
   ]
  },
  {
   "cell_type": "markdown",
   "id": "b18c8d38-9ffd-48ac-9bf2-9f217aa7171d",
   "metadata": {},
   "source": [
    "### Detect Floating Point Number"
   ]
  },
  {
   "cell_type": "code",
   "execution_count": null,
   "id": "ec601fd9-baa9-4142-bfee-231a8482adff",
   "metadata": {},
   "outputs": [],
   "source": [
    "# Enter your code here. Read input from STDIN. Print output to STDOUT\n",
    "def valid(s):\n",
    "    boolean = False\n",
    "    symbol = {'+','-','.'}\n",
    "    for x in range(len(s)):\n",
    "        if not s[x].isdigit():\n",
    "            if s[x] not in symbol or (x>0 and s[x] in {'-','+'}):\n",
    "                return False\n",
    "            else:\n",
    "                boolean = True\n",
    "                symbol.remove(s[x])\n",
    "    return boolean\n",
    "\n",
    "n = int(input())\n",
    "for x in range(n):\n",
    "    s = input()\n",
    "    print(valid(s))"
   ]
  },
  {
   "cell_type": "markdown",
   "id": "9cdffaee-d33a-4595-a9a5-d604ac81225d",
   "metadata": {},
   "source": [
    "### Re.split()"
   ]
  },
  {
   "cell_type": "code",
   "execution_count": null,
   "id": "54739252-e171-4386-b57c-59e3a937199f",
   "metadata": {},
   "outputs": [],
   "source": [
    "regex_pattern = r\",|\\.\"\t# Do not delete 'r'."
   ]
  },
  {
   "cell_type": "markdown",
   "id": "43fff5bd-a837-4b52-96f1-6ca3b7579092",
   "metadata": {},
   "source": [
    "### Group(), Groups() & Groupdict()"
   ]
  },
  {
   "cell_type": "code",
   "execution_count": null,
   "id": "bdac7165-cdc3-42db-930e-084739601a43",
   "metadata": {},
   "outputs": [],
   "source": [
    "# Enter your code here. Read input from STDIN. Print output to STDOUT\n",
    "import re\n",
    "regex = r\"([a-zA-Z0-9])\\1+\"\n",
    "s = input()\n",
    "m = re.findall(regex,s)\n",
    "if (len(m) > 0):print(m[0])\n",
    "else:print(-1)"
   ]
  },
  {
   "cell_type": "markdown",
   "id": "63434ef8-9b7d-4cee-a404-3bab40d4b0ab",
   "metadata": {},
   "source": [
    "### Re.findall() & Re.finditer()"
   ]
  },
  {
   "cell_type": "code",
   "execution_count": null,
   "id": "23afa6c6-2e07-4d93-a201-c7eaae3e3211",
   "metadata": {},
   "outputs": [],
   "source": [
    "# Enter your code here. Read input from STDIN. Print output to STDOUT\n",
    "def count_iterable(i):\n",
    "    return sum(1 for e in i)\n",
    "import re\n",
    "s= input()\n",
    "regex = \"(?<=[^aeiouAEIOU])([aeiouAEIOU]){2,}(?=[^aeiouAEIOU])\"\n",
    "m =re.finditer(regex,s)\n",
    "try:\n",
    "    first_match = next(m).group()\n",
    "    print(first_match)\n",
    "except StopIteration:\n",
    "    print(\"-1\") # action for no match\n",
    "else:\n",
    "    for i in m:\n",
    "        print(s[i.start():i.end()])"
   ]
  },
  {
   "cell_type": "markdown",
   "id": "2d28f7c8-2ff8-47c0-9c2f-b14070a97d81",
   "metadata": {},
   "source": [
    "### Re.start() & Re.end()"
   ]
  },
  {
   "cell_type": "code",
   "execution_count": null,
   "id": "4592bda6-81e4-4aee-8b69-ae816228f113",
   "metadata": {},
   "outputs": [],
   "source": [
    "# Enter your code here. Read input from STDIN. Print output to STDOUT\n",
    "import re\n",
    "s = input()\n",
    "sub = input()\n",
    "result = set()\n",
    "lista = []\n",
    "for x in range(len(s)):\n",
    "    m = re.search(sub,s[x:])\n",
    "    if m and (m.start()+x,m.end()+x-1) not in result:\n",
    "        result.add((m.start()+x,m.end()+x-1))\n",
    "        lista.append((m.start()+x,m.end()+x-1))\n",
    "if (len(lista) == 0):print ('(-1, -1)')\n",
    "else: \n",
    "    for x in lista:\n",
    "        print(x)"
   ]
  },
  {
   "cell_type": "markdown",
   "id": "e1c59a80-ef42-42b2-ae8a-744887052b79",
   "metadata": {},
   "source": [
    "### Regex Substitution"
   ]
  },
  {
   "cell_type": "code",
   "execution_count": null,
   "id": "8c60b2e9-c657-4ea8-b44e-68e10e2d7374",
   "metadata": {},
   "outputs": [],
   "source": [
    "import re\n",
    "N = int(input())\n",
    "for i in range(N):\n",
    "    inp =input()\n",
    "    f = re.sub(r\"(?<= )\\|{2}(?= )\", \"or\", inp)\n",
    "    print(re.sub(r\"(?<= )&{2}(?= )\",\"and\",f))"
   ]
  },
  {
   "cell_type": "markdown",
   "id": "ef2e7198-ff8a-437b-b484-d120eb7d6115",
   "metadata": {},
   "source": [
    "### Validating Roman Numerals"
   ]
  },
  {
   "cell_type": "code",
   "execution_count": null,
   "id": "e33f107c-8ca8-4e65-979e-010f65d17673",
   "metadata": {},
   "outputs": [],
   "source": [
    "regex_pattern = r\"^M{0,3}(CM)?C?D?C{0,3}(XC)?L?(XL)?I?X{0,3}I?V?I{0,3}$\"\t# Do not delete 'r'.\n",
    "\n",
    "import re\n",
    "print(str(bool(re.match(regex_pattern, input()))))"
   ]
  },
  {
   "cell_type": "markdown",
   "id": "fc234c38-7fb1-4576-b107-f412239b1da5",
   "metadata": {},
   "source": [
    "### Validating phone numbers"
   ]
  },
  {
   "cell_type": "code",
   "execution_count": null,
   "id": "6eae5f11-f6f6-49bc-968e-f387d61f887a",
   "metadata": {},
   "outputs": [],
   "source": [
    "import re\n",
    "r = '^[7-9]\\d{9}$'\n",
    "n = int(input())\n",
    "for x in range(n):\n",
    "    s = input()\n",
    "    m = re.match(r,s)\n",
    "    if m:\n",
    "        print('YES')\n",
    "    else:\n",
    "        print('NO')"
   ]
  },
  {
   "cell_type": "markdown",
   "id": "2bd5b735-2201-4979-a9e9-c1b6dde44a7b",
   "metadata": {},
   "source": [
    "### Validating and Parsing Email Addresses"
   ]
  },
  {
   "cell_type": "code",
   "execution_count": null,
   "id": "1a39c227-3b10-4e1f-8c52-2f37f094ec02",
   "metadata": {},
   "outputs": [],
   "source": [
    "import email.utils\n",
    "import re\n",
    "n = int(input())\n",
    "for x in range(n):\n",
    "    s = input()\n",
    "    email1 = email.utils.parseaddr(s)\n",
    "    m = re.match(r'^([a-zA-Z]+)([a-zA-Z-._0-9])*@([a-zA-Z])+\\.([a-zA-Z]){0,3}$',email1[1])\n",
    "    if m:\n",
    "        print(s)"
   ]
  },
  {
   "cell_type": "markdown",
   "id": "55ecbc73-4ec4-4c0b-8ea5-36b564ce1fea",
   "metadata": {},
   "source": [
    "### Hex Color Code"
   ]
  },
  {
   "cell_type": "code",
   "execution_count": null,
   "id": "98e4aa81-17e2-408a-92ab-4ea05531796c",
   "metadata": {},
   "outputs": [],
   "source": [
    "import re\n",
    "n = int(input())\n",
    "regex = \"(#[a-fA-F0-9]{6}|#[a-fA-F0-9]{3})\"\n",
    "for i in range(n):\n",
    "    line = input()\n",
    "    if \":\" in line:\n",
    "        m = re.findall(regex,line)\n",
    "        if m:\n",
    "            for el in m:\n",
    "                print(el)"
   ]
  },
  {
   "cell_type": "markdown",
   "id": "e250b26f-1cb4-4778-8b71-08c9ee21c790",
   "metadata": {},
   "source": [
    "### HTML Parser - Part 1"
   ]
  },
  {
   "cell_type": "code",
   "execution_count": null,
   "id": "340a8af1-16dc-4a39-bb10-bb008ee43e66",
   "metadata": {},
   "outputs": [],
   "source": [
    "from html.parser import HTMLParser\n",
    "import re\n",
    "\n",
    "    # create a subclass and override the handler methods\n",
    "class MyHTMLParser(HTMLParser):\n",
    "    def handle_starttag(self, tag, attrs):\n",
    "        print (\"Start :\", tag)\n",
    "        for a in attrs:\n",
    "            print(\"->\", a[0],\">\",a[1])\n",
    "    def handle_endtag(self, tag):\n",
    "        print (\"End   :\", tag)\n",
    "    def handle_startendtag(self, tag, attrs):\n",
    "        print (\"Empty :\", tag)\n",
    "        for a in attrs:\n",
    "            print(\"->\", a[0],\">\",a[1])\n",
    "        \n",
    "N = int(input())\n",
    "s = ''\n",
    "for x in range(N):\n",
    "    l = input()   \n",
    "    s+=l\n",
    "parser = MyHTMLParser()\n",
    "parser.feed(s)"
   ]
  },
  {
   "cell_type": "markdown",
   "id": "69da3b36-3682-4986-b208-1bce1dee9112",
   "metadata": {},
   "source": [
    "### HTML Parser - Part 2"
   ]
  },
  {
   "cell_type": "code",
   "execution_count": null,
   "id": "f3168cb8-38bf-4a98-9a2f-ba6460e38f12",
   "metadata": {},
   "outputs": [],
   "source": [
    "from html.parser import HTMLParser\n",
    "\n",
    "class MyHTMLParser(HTMLParser):\n",
    "    def handle_comment(self, data):\n",
    "        if data.count(\"\\n\") > 0:\n",
    "            print(\">>> Multi-line Comment\\n\"+data)\n",
    "        else:\n",
    "            print(\">>> Single-line Comment\\n\"+data)\n",
    "        #print (\"Comment  :\", data)\n",
    "    def handle_data(self, data):\n",
    "        if data != '\\n':\n",
    "            print (\">>> Data\\n\"+ data)\n",
    "  \n",
    "html = \"\"       \n",
    "for i in range(int(input())):\n",
    "    html += input().rstrip()\n",
    "    html += '\\n'\n",
    "    \n",
    "parser = MyHTMLParser()\n",
    "parser.feed(html)\n",
    "parser.close()"
   ]
  },
  {
   "cell_type": "markdown",
   "id": "44cb0ba6-55e0-45ce-8dba-01ab1246abac",
   "metadata": {},
   "source": [
    "### Detect HTML Tags, Attributes and Attribute Values"
   ]
  },
  {
   "cell_type": "code",
   "execution_count": null,
   "id": "94f932e9-a877-47bf-a499-91b8921dbf5b",
   "metadata": {},
   "outputs": [],
   "source": [
    "from html.parser import HTMLParser\n",
    "\n",
    "class MyHTMLParser(HTMLParser):\n",
    "    def handle_starttag(self, tag, attrs):\n",
    "        print (tag)\n",
    "        for a in attrs:\n",
    "            print(\"->\", a[0],\">\",a[1])\n",
    "        #print (\"Comment  :\", data)\n",
    "    def handle_startendtag(self, tag, attrs):\n",
    "        print (tag)\n",
    "        for a in attrs:\n",
    "            print(\"->\", a[0],\">\",a[1])\n",
    "html = \"\"       \n",
    "for i in range(int(input())):\n",
    "    html += input().rstrip()\n",
    "    html += '\\n'\n",
    "    \n",
    "parser = MyHTMLParser()\n",
    "parser.feed(html)\n",
    "parser.close()"
   ]
  },
  {
   "cell_type": "markdown",
   "id": "e1e1de3e-9869-46b1-b6a4-0ca594ac633d",
   "metadata": {},
   "source": [
    "### Validating UID"
   ]
  },
  {
   "cell_type": "code",
   "execution_count": null,
   "id": "baea77cc-9176-4a8a-a6e5-4a1444b08990",
   "metadata": {},
   "outputs": [],
   "source": [
    "n = int(input())\n",
    "for i in range(n):\n",
    "    s = input()\n",
    "    upper = 0\n",
    "    num = 0\n",
    "    if len(s) != 10:\n",
    "        print(\"Invalid\")\n",
    "    else:\n",
    "        boolean = True\n",
    "        insieme = set()\n",
    "        for char in range(len(s)):\n",
    "            if (not s[char].isalnum()) or (s[char] in insieme):\n",
    "                boolean = False\n",
    "                break\n",
    "            elif s[char].isdigit():\n",
    "                num += 1\n",
    "            elif s[char].isupper():\n",
    "                upper += 1\n",
    "            insieme.add(s[char])\n",
    "        if upper > 1 and num > 2 and boolean:\n",
    "            print(\"Valid\")\n",
    "        else:\n",
    "            print(\"Invalid\")\n",
    "        "
   ]
  },
  {
   "cell_type": "markdown",
   "id": "60f40571-b12f-4646-9aec-f379a441d7a1",
   "metadata": {},
   "source": [
    "### Validating Credit Card Numbers\n",
    "\n"
   ]
  },
  {
   "cell_type": "code",
   "execution_count": null,
   "id": "ce714ba3-ecb4-43bc-ae42-9f71b2860c84",
   "metadata": {},
   "outputs": [],
   "source": [
    "# Enter your code here. Read input from STDIN. Print output to STDOUT\n",
    "N = int(input())\n",
    "import re\n",
    "regex = \"^[4-6][0-9]{3}(-?)([0-9]{4}(-?)){3}\"\n",
    "for x in range(N):\n",
    "    s = input()\n",
    "    m = re.search(regex,s)\n",
    "    if m is None or len(m.group(0)) != len(s):\n",
    "        print(\"Invalid\")\n",
    "    else:\n",
    "        s = re.sub(\"-\",\"\",s)\n",
    "        m = re.search(regex,s)\n",
    "        if m and re.search(r\"([0-9])\\1{3,}\",s) is None:\n",
    "            print(\"Valid\")\n",
    "            \n",
    "        else:\n",
    "            print(\"Invalid\")"
   ]
  },
  {
   "cell_type": "markdown",
   "id": "088c9adb-4803-42a9-ac31-8d7a1ffe20d8",
   "metadata": {},
   "source": [
    "### Validating Postal Codes"
   ]
  },
  {
   "cell_type": "code",
   "execution_count": null,
   "id": "20bac3a9-931f-4d6c-9f2f-b77f35c733a3",
   "metadata": {},
   "outputs": [],
   "source": [
    "regex_integer_in_range = r\"^[1-9][0-9]{5}$\"\t# Do not delete 'r'.\n",
    "regex_alternating_repetitive_digit_pair = r\"(?=((\\d)\\d\\2))\"\t# Do not delete 'r'."
   ]
  },
  {
   "cell_type": "markdown",
   "id": "949eba33-37d2-4f5d-9a41-79f07c01b95e",
   "metadata": {},
   "source": [
    "### Matrix Script"
   ]
  },
  {
   "cell_type": "code",
   "execution_count": null,
   "id": "58dcfe76-d0a5-4e0d-a4c7-dc77dc4fb7ce",
   "metadata": {},
   "outputs": [],
   "source": [
    "#!/bin/python3\n",
    "\n",
    "import math\n",
    "import os\n",
    "import random\n",
    "import re\n",
    "import sys\n",
    "\n",
    "first_multiple_input = input().rstrip().split()\n",
    "n = int(first_multiple_input[0])\n",
    "m = int(first_multiple_input[1])\n",
    "matrix = []\n",
    "\n",
    "for _ in range(n):\n",
    "    matrix_item = input()\n",
    "    matrix.append(matrix_item)\n",
    "    \n",
    "s = \"\"\n",
    "for y in range(m):\n",
    "    for x in range(n):  \n",
    "        s+=matrix[x][y]\n",
    "        \n",
    " \n",
    "print(re.sub(r'(?<=[a-zA-Z0-9])([!@#$%^&*(),.?\":{}|<> ]+)(?=[a-zA-Z0-9])', ' ', s)) "
   ]
  },
  {
   "cell_type": "markdown",
   "id": "9095f70a-edd8-4c3a-8c10-1173c4b43af7",
   "metadata": {},
   "source": [
    "## XML"
   ]
  },
  {
   "cell_type": "markdown",
   "id": "65c59b24-bcf4-49d6-9324-75c8052eded4",
   "metadata": {},
   "source": [
    "### XML 1 - Find the Score"
   ]
  },
  {
   "cell_type": "code",
   "execution_count": 1,
   "id": "b7e5c28d-6a8d-42be-9876-ad13850c7006",
   "metadata": {},
   "outputs": [],
   "source": [
    "def get_attr_number(node):\n",
    "    size = len(node.attrib)\n",
    "    for i in node:       \n",
    "        size += get_attr_number(i)\n",
    "    return size"
   ]
  },
  {
   "cell_type": "markdown",
   "id": "d5095ac7-712b-4707-8aaa-f0667fa43ed1",
   "metadata": {},
   "source": [
    "### XML2 - Find the Maximum Depth"
   ]
  },
  {
   "cell_type": "code",
   "execution_count": 2,
   "id": "80191c73-0d38-4303-9838-a577f44484f8",
   "metadata": {},
   "outputs": [],
   "source": [
    "maxdepth = 0\n",
    "def depth(elem, level):\n",
    "    global maxdepth\n",
    "    maxdepth =  get_attr_number(elem)\n",
    "    \n",
    "    \n",
    "def get_attr_number(node):\n",
    "    maxx = 0\n",
    "    for i in node:       \n",
    "       val = get_attr_number(i)+1\n",
    "       if val > maxx:\n",
    "            maxx = val\n",
    "    return maxx\n"
   ]
  },
  {
   "cell_type": "markdown",
   "id": "8cd31cef-cd59-45f5-8725-5296cf7b44ab",
   "metadata": {},
   "source": [
    "## Closures and Decorations"
   ]
  },
  {
   "cell_type": "markdown",
   "id": "2f95c355-42aa-4990-b099-37ede5df70c7",
   "metadata": {},
   "source": [
    "### Standardize Mobile Number Using Decorators"
   ]
  },
  {
   "cell_type": "code",
   "execution_count": 3,
   "id": "18216816-2313-4b03-aaf5-6315eb10fef1",
   "metadata": {},
   "outputs": [],
   "source": [
    "def wrapper(f):\n",
    "    def fun(l):\n",
    "        res = []\n",
    "        for el in l:\n",
    "            if len(el) == 10:\n",
    "                el='91'+el\n",
    "            if len(el) == 11 and el[0] == '0':\n",
    "                el='91'+el[1:]\n",
    "            if len(el) == 13:\n",
    "                el=el[1:]\n",
    "            res.append(el)\n",
    "        res = sorted(res,key=int)\n",
    "        for x in res:\n",
    "            print('+'+x[:2]+' '+x[2:7]+ ' '+x[7:])\n",
    "    return fun"
   ]
  },
  {
   "cell_type": "markdown",
   "id": "94f49c41-0a87-4ca8-b01f-2945a6fe257f",
   "metadata": {},
   "source": [
    "### Decorators 2 - Name Directory"
   ]
  },
  {
   "cell_type": "code",
   "execution_count": 5,
   "id": "88412b63-9c27-45b2-a84e-a557ca729a67",
   "metadata": {},
   "outputs": [],
   "source": [
    "def person_lister(f):\n",
    "    def inner(people):\n",
    "        l = []\n",
    "        people = sorted(people,key=lambda x:int(x[2]))\n",
    "        for x in people:\n",
    "            l.append(f(x))\n",
    "        return l\n",
    "    return inner"
   ]
  },
  {
   "cell_type": "markdown",
   "id": "671d430b-6a5e-4fd5-9437-9d121cf52766",
   "metadata": {},
   "source": [
    "## Numpy"
   ]
  },
  {
   "cell_type": "markdown",
   "id": "e85b0a31-2764-4592-812d-f6db7a02b361",
   "metadata": {},
   "source": [
    "### Arrays"
   ]
  },
  {
   "cell_type": "code",
   "execution_count": 7,
   "id": "42adf9b8-11a5-4c71-9f91-8328d6327c99",
   "metadata": {},
   "outputs": [],
   "source": [
    "def arrays(arr):\n",
    "    return numpy.array(arr,float)[::-1]"
   ]
  },
  {
   "cell_type": "markdown",
   "id": "cc42b2f5-3431-4813-b887-b77f6e1c06c2",
   "metadata": {},
   "source": [
    "### Shape and Reshape"
   ]
  },
  {
   "cell_type": "code",
   "execution_count": null,
   "id": "ceafe593-8f50-4978-b139-8d4080e8ed38",
   "metadata": {},
   "outputs": [],
   "source": [
    "import numpy\n",
    "\n",
    "lista = list(map(int,input().split()))\n",
    "my_array = numpy.array(lista)\n",
    "my_array.shape = (3,3)\n",
    "print(my_array)"
   ]
  },
  {
   "cell_type": "markdown",
   "id": "343ba724-b9b1-49f5-a2a7-cba3b798343c",
   "metadata": {},
   "source": [
    "### Transpose and Flatten"
   ]
  },
  {
   "cell_type": "code",
   "execution_count": null,
   "id": "c91cde37-e818-444c-a0a1-9c6c615f105c",
   "metadata": {},
   "outputs": [],
   "source": [
    "import numpy\n",
    "\n",
    "n,m = map(int,input().split())\n",
    "l = []\n",
    "for x in range(n):\n",
    "    l.append(list(map(int,input().split())))\n",
    "\n",
    "num = numpy.array(l)\n",
    "print(num.transpose())\n",
    "print(num.flatten())"
   ]
  },
  {
   "cell_type": "markdown",
   "id": "4e25c25b-d0fe-49c6-88b3-87dd2ef43fe7",
   "metadata": {},
   "source": [
    "### Concatenate"
   ]
  },
  {
   "cell_type": "code",
   "execution_count": null,
   "id": "ae7163dd-c501-4c7f-9148-790eacb8b902",
   "metadata": {},
   "outputs": [],
   "source": [
    "import numpy\n",
    "\n",
    "N,M,P = map(int,input().split())\n",
    "l = []\n",
    "for i in range(N+M):\n",
    "    l.append(numpy.array(list(map(int,input().split()))))\n",
    "print(numpy.array(l))"
   ]
  },
  {
   "cell_type": "markdown",
   "id": "01d04402-f0e0-4c56-af90-231405e70d8c",
   "metadata": {},
   "source": [
    "### Zeros and Ones"
   ]
  },
  {
   "cell_type": "code",
   "execution_count": null,
   "id": "1f1a58c1-e7ef-4c44-a702-cf960fdbeded",
   "metadata": {},
   "outputs": [],
   "source": [
    "import numpy\n",
    "\n",
    "s = list(map(int,input().split()))\n",
    "\n",
    "l = numpy.zeros(s,dtype=int)\n",
    "print(numpy.array(l))\n",
    "l= numpy.ones(s,dtype=int)\n",
    "\n",
    "print(numpy.array(l))"
   ]
  },
  {
   "cell_type": "markdown",
   "id": "9cb65529-2447-48b6-a480-9d6b861c7bf4",
   "metadata": {},
   "source": [
    "### Eye and Identity"
   ]
  },
  {
   "cell_type": "code",
   "execution_count": null,
   "id": "5a3d4d21-337c-4268-90d4-0502dda7b55b",
   "metadata": {},
   "outputs": [],
   "source": [
    "import numpy\n",
    "numpy.set_printoptions(legacy=\"1.13\")\n",
    "x,y = map(int,input().split())\n",
    "print (numpy.eye(x, y))"
   ]
  },
  {
   "cell_type": "markdown",
   "id": "c16e22c9-592f-48d1-9561-a50207d505ca",
   "metadata": {},
   "source": [
    "### Array Mathematics"
   ]
  },
  {
   "cell_type": "code",
   "execution_count": null,
   "id": "b4a099a0-7677-4389-9e21-302b10292c05",
   "metadata": {},
   "outputs": [],
   "source": [
    "import numpy\n",
    "\n",
    "N = int(input().split()[0])\n",
    "a = numpy.array([list(map(int, input().split())) for n in range(N)])\n",
    "b = numpy.array([list(map(int, input().split())) for n in range(N)])\n",
    "print(a+b)\n",
    "print(numpy.array(numpy.subtract(a,b)))\n",
    "print(numpy.multiply(a,b))\n",
    "print(a//b)\n",
    "print(numpy.mod(a,b))\n",
    "print(numpy.power(a,b))"
   ]
  },
  {
   "cell_type": "markdown",
   "id": "1547cd68-755b-43fa-82d0-eaf851162c77",
   "metadata": {},
   "source": [
    "### Floor, Ceil and Rint"
   ]
  },
  {
   "cell_type": "code",
   "execution_count": null,
   "id": "807650a9-cf7e-4811-8937-0e2f70634187",
   "metadata": {},
   "outputs": [],
   "source": [
    "import numpy\n",
    "numpy.set_printoptions(legacy=\"1.13\")\n",
    "\n",
    "l = numpy.array(input().split(),float)\n",
    "print(numpy.floor(l))\n",
    "print(numpy.ceil(l))\n",
    "print(numpy.rint(l))"
   ]
  },
  {
   "cell_type": "markdown",
   "id": "9024ba0f-a418-41f0-8fb0-b1ee53cb6879",
   "metadata": {},
   "source": [
    "### Sum and Prod"
   ]
  },
  {
   "cell_type": "code",
   "execution_count": null,
   "id": "4c9273b1-13ea-469d-9149-58ea5d3c6ccd",
   "metadata": {},
   "outputs": [],
   "source": [
    "import numpy\n",
    "\n",
    "n = int(input().split()[0])\n",
    "l = []\n",
    "for i in range(n):\n",
    "    l.append(numpy.array(list(map(int,input().split()))))\n",
    "somma = numpy.sum(l,axis=0)\n",
    "print(numpy.prod(somma))"
   ]
  },
  {
   "cell_type": "markdown",
   "id": "6085c7a1-e83a-452a-bcb9-eaa1afe8a978",
   "metadata": {},
   "source": [
    "### Min and Max\n",
    "\n"
   ]
  },
  {
   "cell_type": "code",
   "execution_count": null,
   "id": "6c91c71d-5798-4607-a17b-ef9335e8f6ac",
   "metadata": {},
   "outputs": [],
   "source": [
    "import numpy\n",
    "\n",
    "n = int(input().split()[0])\n",
    "l = []\n",
    "for i in range(n):\n",
    "    l.append(numpy.array(list(map(int,input().split()))))\n",
    "minn = numpy.min(l,axis=1)\n",
    "print(numpy.max(minn))"
   ]
  },
  {
   "cell_type": "markdown",
   "id": "af9e523d-4f0d-4912-837d-3249b32d9d28",
   "metadata": {},
   "source": [
    "### Mean, Var, and Std"
   ]
  },
  {
   "cell_type": "code",
   "execution_count": null,
   "id": "284420a1-ff47-4647-82ad-4d0cbd9d8ee3",
   "metadata": {},
   "outputs": [],
   "source": [
    "import numpy\n",
    "n = int(input().split()[0])\n",
    "l = numpy.array([input().split() for i in range(n)],dtype=float)\n",
    "print(numpy.mean(l,axis=1))\n",
    "print(numpy.var(l,axis=0))\n",
    "std = numpy.std(l)\n",
    "print(std.round(11))"
   ]
  },
  {
   "cell_type": "markdown",
   "id": "615eb29a-4ce7-4923-9a9f-91cee4e6516b",
   "metadata": {},
   "source": [
    "### Dot and Cross"
   ]
  },
  {
   "cell_type": "code",
   "execution_count": null,
   "id": "50710a28-708c-4cce-9244-e3a68a8d2c6e",
   "metadata": {},
   "outputs": [],
   "source": [
    "import numpy\n",
    "\n",
    "import numpy\n",
    "n = int(input().split()[0])\n",
    "a = numpy.array([input().split() for _ in range(n)], int)\n",
    "b = numpy.array([input().split() for _ in range(n)], int)\n",
    "print(numpy.matmul(a,b))"
   ]
  },
  {
   "cell_type": "markdown",
   "id": "f51a6b0b-8d14-412f-bf3b-a4f3d704c65b",
   "metadata": {},
   "source": [
    "### Inner and Outer"
   ]
  },
  {
   "cell_type": "code",
   "execution_count": null,
   "id": "02332c07-9ec4-41e0-a02d-1d7bed04fddc",
   "metadata": {},
   "outputs": [],
   "source": [
    "import numpy\n",
    "\n",
    "a = list(map(int,input().split()))\n",
    "b = list(map(int,input().split()))\n",
    "\n",
    "print(numpy.inner(a,b))\n",
    "print(numpy.outer(a,b))"
   ]
  },
  {
   "cell_type": "markdown",
   "id": "a8ca3ccc-e7f6-4d8d-8f3f-24928d125d1a",
   "metadata": {},
   "source": [
    "### Polynomials"
   ]
  },
  {
   "cell_type": "code",
   "execution_count": null,
   "id": "eeb71aa2-5087-417e-9ac3-4afd60fed9bb",
   "metadata": {},
   "outputs": [],
   "source": [
    "import numpy\n",
    "\n",
    "l = numpy.array(input().split(), float)\n",
    "n = int(input())\n",
    "print(numpy.polyval(l,n))"
   ]
  },
  {
   "cell_type": "markdown",
   "id": "c8ac79f3-6b29-4719-ba9c-b65b4010e5e2",
   "metadata": {},
   "source": [
    "### Linear Algebra"
   ]
  },
  {
   "cell_type": "code",
   "execution_count": null,
   "id": "eb41b97f-b23e-459c-aeff-120eea58ac9e",
   "metadata": {},
   "outputs": [],
   "source": [
    "import numpy\n",
    "n = int(input())\n",
    "l = numpy.array([input().split() for i in range(n)], float)\n",
    "s = numpy.linalg.det(l)\n",
    "print(s.round(2))"
   ]
  },
  {
   "cell_type": "markdown",
   "id": "9c1a6720-9e15-4d55-a955-e5479540cafc",
   "metadata": {},
   "source": [
    "# PROBLEM 2"
   ]
  },
  {
   "cell_type": "markdown",
   "id": "c1fa2b2d-2772-4f4e-979c-71778ecb8f07",
   "metadata": {},
   "source": [
    "### Birthday Cake Candles"
   ]
  },
  {
   "cell_type": "code",
   "execution_count": null,
   "id": "bc933d7f-8917-4fb4-b0ed-badb06ce2ab5",
   "metadata": {},
   "outputs": [],
   "source": [
    "def birthdayCakeCandles(candles):\n",
    "    res = 0\n",
    "    mas = max(candles)\n",
    "    for i in candles:\n",
    "        if i == mas:\n",
    "            res+=1\n",
    "    return res"
   ]
  },
  {
   "cell_type": "markdown",
   "id": "779f50f3-d110-4b45-90ae-63770e1a3ab2",
   "metadata": {},
   "source": [
    "### Number Line Jumps"
   ]
  },
  {
   "cell_type": "code",
   "execution_count": null,
   "id": "1397186e-012e-4a8e-80f6-f7dc8e2ffe91",
   "metadata": {},
   "outputs": [],
   "source": [
    "def kangaroo(x1, v1, x2, v2):\n",
    "    prec1 = x1\n",
    "    prec2 = x2\n",
    "    boolean = True\n",
    "    while(boolean):\n",
    "        if x1 == x2:\n",
    "            return 'YES'\n",
    "        if (v1 > v2 and x1 > x2) or (v2 > v1 and x2 > x1) or (v2 == v1 and x2 != x1):\n",
    "            return 'NO' \n",
    "        prec1 = x1\n",
    "        prec2 = x2\n",
    "        x1 += v1\n",
    "        x2 += v2"
   ]
  },
  {
   "cell_type": "markdown",
   "id": "3e9c7b65-6423-4528-9a13-002abad0d066",
   "metadata": {},
   "source": [
    "### Viral Advertising"
   ]
  },
  {
   "cell_type": "code",
   "execution_count": null,
   "id": "b7f3cafd-b303-4f1a-bb5f-2ec881078cf6",
   "metadata": {},
   "outputs": [],
   "source": [
    "#!/bin/python3\n",
    "\n",
    "import math\n",
    "import os\n",
    "import random\n",
    "import re\n",
    "import sys\n",
    "def viralAdvertising(n):\n",
    "    somma = 2\n",
    "    person = 2\n",
    "    for x in range(1,n):\n",
    "        person = (person*3)//2\n",
    "        somma += person\n",
    "    return somma"
   ]
  },
  {
   "cell_type": "markdown",
   "id": "8aebe722-e790-49b0-b644-d7f267607b4b",
   "metadata": {},
   "source": [
    "### Recursive Digit Sum"
   ]
  },
  {
   "cell_type": "code",
   "execution_count": null,
   "id": "daed2ab1-1ab9-4e03-9c6c-807e29cbe6cd",
   "metadata": {},
   "outputs": [],
   "source": [
    "#!/bin/python3\n",
    "\n",
    "import math\n",
    "import os\n",
    "import random\n",
    "import re\n",
    "import sys\n",
    "\n",
    "def superDigit(n, k):\n",
    "    s = n\n",
    "    b = True\n",
    "    v = 0\n",
    "    for el in s:\n",
    "        v+=int(el)       \n",
    "    s = str(v)*k\n",
    "    while (b):\n",
    "        if len(s) == 1: return s\n",
    "        else:\n",
    "            v = 0       \n",
    "            for el in s:\n",
    "                v+=int(el)       \n",
    "            s = str(v)"
   ]
  },
  {
   "cell_type": "markdown",
   "id": "aeb7f54b-dd96-4499-862a-31d76884c572",
   "metadata": {},
   "source": [
    "### Insertion Sort - Part 1"
   ]
  },
  {
   "cell_type": "code",
   "execution_count": null,
   "id": "4f365beb-ab05-46b0-934f-aed74a47ed19",
   "metadata": {},
   "outputs": [],
   "source": [
    "#!/bin/python\n",
    "import math\n",
    "import os\n",
    "import random\n",
    "import re\n",
    "import sys\n",
    "\n",
    "def insertionSort1(n, arr):\n",
    "    num = arr[-1]\n",
    "    for i in range(n-1,-1,-1):\n",
    "        #print(num,arr[i],arr[i-1])\n",
    "        if i == 0:\n",
    "            arr[i] = num\n",
    "        elif num < arr[i-1]:\n",
    "            arr[i] = arr[i-1]\n",
    "        else:\n",
    "            arr[i] = num\n",
    "            print(\" \".join(list(map(str,arr))))\n",
    "            break\n",
    "        print(\" \".join(list(map(str,arr))))"
   ]
  },
  {
   "cell_type": "markdown",
   "id": "7cb8260a-44e2-4d63-8ca0-c11779eb1d5b",
   "metadata": {},
   "source": [
    "### Insertion Sort - Part 2"
   ]
  },
  {
   "cell_type": "code",
   "execution_count": null,
   "id": "7e1535a7-df1b-4a2d-bc39-875ffd9b18b9",
   "metadata": {},
   "outputs": [],
   "source": [
    "#!/bin/python\n",
    "\n",
    "import math\n",
    "import os\n",
    "import random\n",
    "import re\n",
    "import sys\n",
    "\n",
    "def insertionSort2(n, arr):\n",
    "    for i in range(1,n):    \n",
    "        num = arr[i]\n",
    "        for j in range(i,-1,-1):  \n",
    "            if num < arr[j]:\n",
    "                temp = arr[j]\n",
    "                arr[j] = num\n",
    "                arr[j+1] = temp      \n",
    "        print(\" \".join(list(map(str,arr))))\n",
    "        "
   ]
  }
 ],
 "metadata": {
  "kernelspec": {
   "display_name": "Python 3 (ipykernel)",
   "language": "python",
   "name": "python3"
  },
  "language_info": {
   "codemirror_mode": {
    "name": "ipython",
    "version": 3
   },
   "file_extension": ".py",
   "mimetype": "text/x-python",
   "name": "python",
   "nbconvert_exporter": "python",
   "pygments_lexer": "ipython3",
   "version": "3.8.1"
  }
 },
 "nbformat": 4,
 "nbformat_minor": 5
}
